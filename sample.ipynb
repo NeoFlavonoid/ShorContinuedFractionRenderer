{
 "cells": [
  {
   "cell_type": "code",
   "execution_count": null,
   "metadata": {},
   "outputs": [],
   "source": [
    "from sympy import Rational\n",
    "from continued_fraction_renderer import ContinuedFractionRenderer\n",
    "from sympy.ntheory.continued_fraction import continued_fraction_iterator\n",
    "\n",
    "# Original list\n",
    "sample_matching_indices = [\n",
    "    0, 2979, 5958, 8937, 23831, 26810, 29789, 32768, 35747, 38726,\n",
    "    41705, 56599, 59578, 62557, 65536, 68515, 71494, 74473, 89367, 92346,\n",
    "    95325, 98304, 101283, 104262, 107241, 122135, 125114, 128093\n",
    "]\n",
    "\n",
    "# Scale factor: 2^t\n",
    "scale_factor = 2**17\n",
    "\n",
    "# Print the continued fractions\n",
    "for index in sample_matching_indices:\n",
    "    cfr = ContinuedFractionRenderer(index, scale_factor)\n",
    "    continued_fraction, convergents = cfr.compute()\n",
    "    cfr.display_continued_fraction(continued_fraction)\n",
    "    cfr.display_convergents(convergents)"
   ]
  }
 ],
 "metadata": {
  "kernelspec": {
   "display_name": "base",
   "language": "python",
   "name": "python3"
  },
  "language_info": {
   "codemirror_mode": {
    "name": "ipython",
    "version": 3
   },
   "file_extension": ".py",
   "mimetype": "text/x-python",
   "name": "python",
   "nbconvert_exporter": "python",
   "pygments_lexer": "ipython3",
   "version": "3.11.7"
  }
 },
 "nbformat": 4,
 "nbformat_minor": 2
}
