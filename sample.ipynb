{
 "cells": [
  {
   "cell_type": "code",
   "execution_count": null,
   "metadata": {},
   "outputs": [],
   "source": [
    "from sympy import Rational\n",
    "from continued_fraction_renderer import ContinuedFractionRenderer\n",
    "from sympy.ntheory.continued_fraction import continued_fraction_iterator\n",
    "\n",
    "# Original list\n",
    "sample_matching_indices = [\n",
    "    0, 2979, 5958, 8937, 23831, 26810, 29789, 32768, 35747, 38726,\n",
    "    41705, 56599, 59578, 62557, 65536, 68515, 71494, 74473, 89367, 92346,\n",
    "    95325, 98304, 101283, 104262, 107241, 122135, 125114, 128093\n",
    "]\n",
    "\n",
    "# Scale factor: 2^t\n",
    "scale_factor = 2**17\n",
    "\n",
    "# Compute continued fraction for each number divided by 2^17\n",
    "continued_fractions = []\n",
    "for num in sample_matching_indices:\n",
    "    fraction = Rational(num, scale_factor)  # Convert to rational\n",
    "    cf = list(continued_fraction_iterator(fraction))  # Get continued fraction representation\n",
    "    continued_fractions.append(cf)\n",
    "\n",
    "# Print the continued fractions\n",
    "for i, cf in enumerate(continued_fractions):\n",
    "    a = ContinuedFractionRenderer(sample_matching_indices[i], 2**17)\n",
    "    a.display_continued_fraction()"
   ]
  }
 ],
 "metadata": {
  "kernelspec": {
   "display_name": "base",
   "language": "python",
   "name": "python3"
  },
  "language_info": {
   "name": "python",
   "version": "3.11.7"
  }
 },
 "nbformat": 4,
 "nbformat_minor": 2
}
